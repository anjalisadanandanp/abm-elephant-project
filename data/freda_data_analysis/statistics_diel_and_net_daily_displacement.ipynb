{
 "cells": [
  {
   "cell_type": "markdown",
   "metadata": {},
   "source": [
    "# Freda Data"
   ]
  },
  {
   "cell_type": "code",
   "execution_count": 1,
   "metadata": {},
   "outputs": [],
   "source": [
    "import pandas as pd\n",
    "import numpy as np\n",
    "from statsmodels.graphics.tsaplots import plot_acf # type: ignore\n",
    "from statsmodels.tsa.stattools import acf # type: ignore\n",
    "import matplotlib.pyplot as plt # type: ignore\n",
    "import os\n",
    "import matplotlib as mpl # type: ignore\n",
    "label_size = 12\n",
    "mpl.rcParams['xtick.labelsize'] = label_size \n",
    "mpl.rcParams['ytick.labelsize'] = label_size \n",
    "data = pd.read_csv(os.path.join(os.getcwd(), \"moveHMM_Elephant_data_24hrs.csv\"))"
   ]
  },
  {
   "cell_type": "code",
   "execution_count": 2,
   "metadata": {},
   "outputs": [],
   "source": [
    "#to supress warnings\n",
    "import warnings     \n",
    "warnings.filterwarnings('ignore') "
   ]
  },
  {
   "cell_type": "code",
   "execution_count": 3,
   "metadata": {},
   "outputs": [
    {
     "data": {
      "text/html": [
       "<div>\n",
       "<style scoped>\n",
       "    .dataframe tbody tr th:only-of-type {\n",
       "        vertical-align: middle;\n",
       "    }\n",
       "\n",
       "    .dataframe tbody tr th {\n",
       "        vertical-align: top;\n",
       "    }\n",
       "\n",
       "    .dataframe thead th {\n",
       "        text-align: right;\n",
       "    }\n",
       "</style>\n",
       "<table border=\"1\" class=\"dataframe\">\n",
       "  <thead>\n",
       "    <tr style=\"text-align: right;\">\n",
       "      <th></th>\n",
       "      <th>Step</th>\n",
       "      <th>latitude</th>\n",
       "      <th>longitude</th>\n",
       "      <th>ID</th>\n",
       "      <th>timestamp</th>\n",
       "      <th>states</th>\n",
       "    </tr>\n",
       "  </thead>\n",
       "  <tbody>\n",
       "    <tr>\n",
       "      <th>0</th>\n",
       "      <td>0</td>\n",
       "      <td>-0.962608</td>\n",
       "      <td>101.974244</td>\n",
       "      <td>14</td>\n",
       "      <td>2015-03-13 20:22:17.000</td>\n",
       "      <td>1</td>\n",
       "    </tr>\n",
       "    <tr>\n",
       "      <th>1</th>\n",
       "      <td>1</td>\n",
       "      <td>-0.962602</td>\n",
       "      <td>101.974213</td>\n",
       "      <td>14</td>\n",
       "      <td>2015-03-13 20:26:19.000</td>\n",
       "      <td>1</td>\n",
       "    </tr>\n",
       "    <tr>\n",
       "      <th>2</th>\n",
       "      <td>2</td>\n",
       "      <td>-0.962636</td>\n",
       "      <td>101.974335</td>\n",
       "      <td>14</td>\n",
       "      <td>2015-03-13 20:30:32.000</td>\n",
       "      <td>1</td>\n",
       "    </tr>\n",
       "    <tr>\n",
       "      <th>3</th>\n",
       "      <td>3</td>\n",
       "      <td>-0.962615</td>\n",
       "      <td>101.974275</td>\n",
       "      <td>14</td>\n",
       "      <td>2015-03-13 20:35:31.000</td>\n",
       "      <td>1</td>\n",
       "    </tr>\n",
       "    <tr>\n",
       "      <th>4</th>\n",
       "      <td>4</td>\n",
       "      <td>-0.962658</td>\n",
       "      <td>101.974258</td>\n",
       "      <td>14</td>\n",
       "      <td>2015-03-13 20:40:36.000</td>\n",
       "      <td>1</td>\n",
       "    </tr>\n",
       "  </tbody>\n",
       "</table>\n",
       "</div>"
      ],
      "text/plain": [
       "   Step  latitude   longitude  ID                timestamp  states\n",
       "0     0 -0.962608  101.974244  14  2015-03-13 20:22:17.000       1\n",
       "1     1 -0.962602  101.974213  14  2015-03-13 20:26:19.000       1\n",
       "2     2 -0.962636  101.974335  14  2015-03-13 20:30:32.000       1\n",
       "3     3 -0.962615  101.974275  14  2015-03-13 20:35:31.000       1\n",
       "4     4 -0.962658  101.974258  14  2015-03-13 20:40:36.000       1"
      ]
     },
     "execution_count": 3,
     "metadata": {},
     "output_type": "execute_result"
    }
   ],
   "source": [
    "data.head()"
   ]
  },
  {
   "cell_type": "code",
   "execution_count": 4,
   "metadata": {},
   "outputs": [],
   "source": [
    "ID = data[\"ID\"].unique()"
   ]
  },
  {
   "cell_type": "code",
   "execution_count": 5,
   "metadata": {},
   "outputs": [
    {
     "data": {
      "text/plain": [
       "array([  14,   45,  104,  217,  249,  323,  431,  432,  460,  465,  468,\n",
       "        471,  482,  507,  541,  543,  562,  648,  661,  664,  985,  992,\n",
       "       1005, 1242, 1267, 1306, 1321, 1324, 1327, 1345, 1357, 1372, 1373,\n",
       "       1377, 1399, 1405, 1416, 1420, 1447, 1450, 1459, 1464, 1467, 1475,\n",
       "       1501, 1512, 1608])"
      ]
     },
     "execution_count": 5,
     "metadata": {},
     "output_type": "execute_result"
    }
   ],
   "source": [
    "ID"
   ]
  },
  {
   "cell_type": "code",
   "execution_count": 6,
   "metadata": {},
   "outputs": [],
   "source": [
    "LAT = data[\"latitude\"]\n",
    "LON = data[\"longitude\"]"
   ]
  },
  {
   "cell_type": "code",
   "execution_count": 7,
   "metadata": {},
   "outputs": [],
   "source": [
    "import geopy.distance # type: ignore\n",
    "\n",
    "dist = []\n",
    "\n",
    "for i in range(0, len(data) - 1):\n",
    "    coords_1 = [ LAT[i], LON[i]]\n",
    "    coords_2 = [ LAT[i+1], LON[i+1]]\n",
    "    dist.append(geopy.distance.geodesic(coords_1, coords_2).km)\n",
    "dist.append(np.nan)"
   ]
  },
  {
   "cell_type": "code",
   "execution_count": 8,
   "metadata": {},
   "outputs": [],
   "source": [
    "data[\"step\"] = dist"
   ]
  },
  {
   "cell_type": "code",
   "execution_count": 9,
   "metadata": {},
   "outputs": [],
   "source": [
    "for id in ID:\n",
    "    \n",
    "    #print(data[data[\"ID\"] == id])\n",
    "    data_id = data[data[\"ID\"] == id].reset_index()\n",
    "\n",
    "    fig, ax = plt.subplots(figsize=(6.8, 4))\n",
    "\n",
    "    plot_acf(data_id[\"step\"].values[0:-1],lags=100, ax=ax)\n",
    "    fig.set_tight_layout(tight=True)\n",
    "    ax.set_title(\"Animal ID: \"+ str(id), fontdict={\"size\": 20})\n",
    "    ax.set_xlabel(\"Lags\", fontdict={\"size\": 18})\n",
    "    ax.set_ylabel(\"Autocorrelation\", fontdict={\"size\": 18})\n",
    "    plt.grid()\n",
    "    plt.savefig(os.path.join(os.getcwd(), \"autocorrelation/acf_\" + str(id) + \"_.png\"), dpi=300)\n",
    "\n",
    "    plt.close()\n",
    "    \n",
    "    #acf_values = acf(data_id[\"step\"].values[0:-1], nlags=10, alpha = 0.05, fft = False)\n",
    "    #print(acf_values)"
   ]
  },
  {
   "cell_type": "code",
   "execution_count": 10,
   "metadata": {},
   "outputs": [],
   "source": [
    "net_distance = []\n",
    "diel_distance = []\n",
    "\n",
    "for id in ID:\n",
    "\n",
    "    data_id = data[data[\"ID\"] == id].reset_index()\n",
    "    len_id = len(data_id)\n",
    "\n",
    "    for i in range(0, len_id, 288):\n",
    "        day_data=data_id[i*288:i*288+288]\n",
    "        if len(day_data) == 288:\n",
    "\n",
    "            diel_distance.append(sum(day_data[\"step\"]))\n",
    "\n",
    "            coords_1 = [ day_data.head(1)[\"latitude\"].values[0], day_data.head(1)[\"longitude\"].values[0]]\n",
    "            coords_2 = [ day_data.tail(1)[\"latitude\"].values[0], day_data.tail(1)[\"longitude\"].values[0]]\n",
    "            \n",
    "            net_distance.append(geopy.distance.geodesic(coords_1, coords_2).km)"
   ]
  },
  {
   "cell_type": "code",
   "execution_count": 11,
   "metadata": {},
   "outputs": [
    {
     "data": {
      "image/png": "[encoded data removed]",
      "text/plain": [
       "<Figure size 680x450 with 1 Axes>"
      ]
     },
     "metadata": {},
     "output_type": "display_data"
    }
   ],
   "source": [
    "fig, ax = plt.subplots(figsize=(6.8, 4.5))\n",
    "ax.hist(net_distance, bins = 30)\n",
    "ax.set_xlabel(\"Net distance (km)\", fontdict={\"size\": 12})\n",
    "ax.set_ylabel(\"Frequency\", fontdict={\"size\": 12})\n",
    "plt.savefig(os.path.join(os.getcwd(), \"net_distance_hist.png\"), dpi=300, bbox_inches='tight')"
   ]
  },
  {
   "cell_type": "code",
   "execution_count": 12,
   "metadata": {},
   "outputs": [
    {
     "data": {
      "image/png": "[encoded data removed]",
      "text/plain": [
       "<Figure size 680x450 with 1 Axes>"
      ]
     },
     "metadata": {},
     "output_type": "display_data"
    }
   ],
   "source": [
    "fig, ax = plt.subplots(figsize=(6.8, 4.5))\n",
    "ax.hist(diel_distance, bins = 30)\n",
    "ax.set_xlabel(\"Diel distance (km)\", fontdict={\"size\": 12})\n",
    "ax.set_ylabel(\"Frequency\", fontdict={\"size\": 12})\n",
    "plt.savefig(os.path.join(os.getcwd(), \"diel_distance_hist.png\"), dpi=300, bbox_inches='tight')\n",
    "\n",
    "# plt.boxplot(net_distance)"
   ]
  },
  {
   "cell_type": "code",
   "execution_count": 13,
   "metadata": {},
   "outputs": [
    {
     "data": {
      "text/plain": [
       "np.float64(1.828163121937177)"
      ]
     },
     "execution_count": 13,
     "metadata": {},
     "output_type": "execute_result"
    }
   ],
   "source": [
    "np.average(net_distance)"
   ]
  },
  {
   "cell_type": "code",
   "execution_count": 14,
   "metadata": {},
   "outputs": [
    {
     "data": {
      "text/plain": [
       "np.float64(7.4431506651690915)"
      ]
     },
     "execution_count": 14,
     "metadata": {},
     "output_type": "execute_result"
    }
   ],
   "source": [
    "np.average(diel_distance)"
   ]
  },
  {
   "cell_type": "code",
   "execution_count": 15,
   "metadata": {},
   "outputs": [],
   "source": [
    "fig, ax = plt.subplots(figsize=(6.8, 4.5))\n",
    "ax.boxplot(net_distance)\n",
    "ax.set_ylabel(\"Net distance (km)\", fontdict={\"size\": 12})\n",
    "ax.set_xticks([])       #remove x-ticks\n",
    "# plt.grid()\n",
    "plt.savefig(os.path.join(os.getcwd(), \"net_distance_boxplot.png\"), dpi=300, bbox_inches='tight')\n",
    "plt.close()\n",
    "\n",
    "fig, ax = plt.subplots(figsize=(6.8, 4.5))\n",
    "ax.boxplot(diel_distance)\n",
    "ax.set_ylabel(\"Diel distance (km)\", fontdict={\"size\": 12})\n",
    "ax.set_xticks([])       #remove x-ticks\n",
    "# plt.grid()\n",
    "plt.savefig(os.path.join(os.getcwd(), \"diel_distance_boxplot.png\"), dpi=300, bbox_inches='tight')\n",
    "plt.close()"
   ]
  },
  {
   "cell_type": "code",
   "execution_count": 16,
   "metadata": {},
   "outputs": [
    {
     "name": "stdout",
     "output_type": "stream",
     "text": [
      "shape:  2.7302366086985277\n",
      "scale:  1.559367856250987\n"
     ]
    }
   ],
   "source": [
    "from scipy.stats import gamma\n",
    "\n",
    "shape, loc, scale = gamma.fit(diel_distance, scale = 1, loc=0.012)\n",
    "print(\"shape: \", shape)\n",
    "print(\"scale: \", scale)\n",
    "x = np.linspace(0, 20, 500)\n",
    "pdf_fitted = gamma.pdf(x, shape, loc, scale)\n",
    "fig, ax = plt.subplots(figsize=(6.8, 4.5))\n",
    "plt.plot(x, pdf_fitted,'r-', label='fitted gamma pdf')\n",
    "plt.hist(diel_distance, bins = 30, density=True)\n",
    "ax.set_xlabel(\"Diel distance (km)\", fontdict={\"size\": 12})\n",
    "ax.set_ylabel(\"Frequency\", fontdict={\"size\": 12})\n",
    "plt.legend()\n",
    "plt.savefig(os.path.join(os.getcwd(), \"diel_distance_gamma.png\"), dpi=300, bbox_inches='tight')\n",
    "plt.close()"
   ]
  },
  {
   "cell_type": "code",
   "execution_count": 17,
   "metadata": {},
   "outputs": [],
   "source": [
    "from scipy.stats import weibull_min\n",
    "\n",
    "shape, loc, scale = weibull_min.fit(diel_distance, scale = 1, loc=0.012)\n",
    "alpha = 0.05\n",
    "lower = weibull_min.ppf(alpha/2, shape, loc, scale)\n",
    "upper = weibull_min.ppf(1.-alpha/2, shape, loc, scale)\n",
    "x = np.linspace(0, 20, 500)\n",
    "pdf_fitted =  weibull_min.pdf(x, shape, loc, scale)\n",
    "\n",
    "fig, ax = plt.subplots(figsize=(6.8, 4.5))\n",
    "plt.plot(x, pdf_fitted, 'r-', label='fitted weibull pdf')\n",
    "plt.hist(diel_distance, bins = 30, density=True)\n",
    "ax.set_xlabel(\"Diel distance (km)\", fontdict={\"size\": 12})\n",
    "ax.set_ylabel(\"Frequency\", fontdict={\"size\": 12})\n",
    "plt.legend()\n",
    "plt.savefig(os.path.join(os.getcwd(), \"diel_distance_weibull.png\"), dpi=300, bbox_inches='tight')\n",
    "plt.close()"
   ]
  },
  {
   "cell_type": "code",
   "execution_count": 18,
   "metadata": {},
   "outputs": [],
   "source": [
    "shape, loc, scale = weibull_min.fit(net_distance, scale = 1, loc=3.63)\n",
    "alpha = 0.05\n",
    "lower = weibull_min.ppf(alpha/2, shape, loc, scale)\n",
    "upper = weibull_min.ppf(1.-alpha/2, shape, loc, scale)\n",
    "x=np.linspace(0,20,500)\n",
    "pdf_fitted =  weibull_min.pdf(x, shape, loc, scale)\n",
    "\n",
    "fig, ax = plt.subplots(figsize=(6.8, 4.5))\n",
    "plt.plot(x, pdf_fitted, 'r-', label='fitted weibull pdf')\n",
    "plt.hist(net_distance, bins = 30, density=True)\n",
    "ax.set_xlabel(\"Net distance (km)\", fontdict={\"size\": 12})\n",
    "ax.set_ylabel(\"Frequency\", fontdict={\"size\": 12})\n",
    "plt.legend()\n",
    "plt.savefig(os.path.join(os.getcwd(), \"net_distance_weibull.png\"), dpi=300, bbox_inches='tight')\n",
    "plt.close()"
   ]
  }
 ],
 "metadata": {
  "interpreter": {
   "hash": "31f2aee4e71d21fbe5cf8b01ff0e069b9275f58929596ceb00d14d90e3e16cd6"
  },
  "kernelspec": {
   "display_name": "Python 3.6.9 64-bit",
   "language": "python",
   "name": "python3"
  },
  "language_info": {
   "codemirror_mode": {
    "name": "ipython",
    "version": 3
   },
   "file_extension": ".py",
   "mimetype": "text/x-python",
   "name": "python",
   "nbconvert_exporter": "python",
   "pygments_lexer": "ipython3",
   "version": "3.12.4"
  }
 },
 "nbformat": 4,
 "nbformat_minor": 2
}
